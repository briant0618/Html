{
  "nbformat": 4,
  "nbformat_minor": 0,
  "metadata": {
    "colab": {
      "name": "2.Numpy실습하기.ipynb",
      "provenance": [],
      "collapsed_sections": [],
      "authorship_tag": "ABX9TyM26o3MIr3vAgNkD6/PXD+1",
      "include_colab_link": true
    },
    "kernelspec": {
      "name": "python3",
      "display_name": "Python 3"
    },
    "language_info": {
      "name": "python"
    }
  },
  "cells": [
    {
      "cell_type": "markdown",
      "metadata": {
        "id": "view-in-github",
        "colab_type": "text"
      },
      "source": [
        "<a href=\"https://colab.research.google.com/github/briant0618/Html/blob/master/2_Numpy%EC%8B%A4%EC%8A%B5%ED%95%98%EA%B8%B0.ipynb\" target=\"_parent\"><img src=\"https://colab.research.google.com/assets/colab-badge.svg\" alt=\"Open In Colab\"/></a>"
      ]
    },
    {
      "cell_type": "code",
      "metadata": {
        "id": "F917G0cVM_Un"
      },
      "source": [
        "\"\"\"\n",
        "날짜 : 2021/07/05\n",
        "이름 : 김동현\n",
        "내용 : Numpy_Colab 실습하기\n",
        "\"\"\"\n",
        "import numpy  as np"
      ],
      "execution_count": null,
      "outputs": []
    },
    {
      "cell_type": "code",
      "metadata": {
        "colab": {
          "base_uri": "https://localhost:8080/"
        },
        "id": "Z6v0QP5CNLBd",
        "outputId": "f3325aa0-c7c8-472c-9e02-0c9799556e4c"
      },
      "source": [
        "# numpy 자료구조 - Vector\n",
        "v1 = np.array([1,2,3,4,5])\n",
        "print('v1 : ', v1)\n",
        "\n",
        "v2 = np.arange(5)\n",
        "print('v2 : ', v2)\n",
        "\n",
        "v3 = np.arange(10)\n",
        "print('v3 : ', v3)"
      ],
      "execution_count": null,
      "outputs": [
        {
          "output_type": "stream",
          "text": [
            "v1 :  [1 2 3 4 5]\n",
            "v2 :  [0 1 2 3 4]\n",
            "v3 :  [0 1 2 3 4 5 6 7 8 9]\n"
          ],
          "name": "stdout"
        }
      ]
    },
    {
      "cell_type": "code",
      "metadata": {
        "id": "3nsAfPFmRf7K"
      },
      "source": [
        "#0 ~ 1 사이의 임의의 실수 100개\n",
        "rand1 = np.random.rand(100)\n",
        "print(rand1)\n",
        "\n",
        "#표준 정규분포를 따르는 실수 100개\n",
        "rand2 = np.random.randn(100)\n",
        "print(rand2)\n",
        "\n",
        "#0 ~ 9 사이의 임의의 정수\n",
        "rand3 = np.random.randint(10)\n",
        "print(rand3)"
      ],
      "execution_count": null,
      "outputs": []
    },
    {
      "cell_type": "code",
      "metadata": {
        "id": "S7yDY3fxN3mo"
      },
      "source": [
        "# numpy 자료구조 - 행렬\n",
        "\n",
        "m1 = np.array([[1,2],[3,4]])\n",
        "print(m1)\n",
        "\n",
        "m2 = np.array([[1,2,3],[4,5,6],[7,8,9]])\n",
        "print(m2)\n",
        "\n",
        "m3 = np.ones([2,4])\n",
        "print(m3)\n",
        "\n",
        "m4 = np.zeros([3,2])\n",
        "print(m4)"
      ],
      "execution_count": null,
      "outputs": []
    },
    {
      "cell_type": "code",
      "metadata": {
        "colab": {
          "base_uri": "https://localhost:8080/"
        },
        "id": "h6TKubq8N3iU",
        "outputId": "5044470f-21aa-498e-c447-dd19ce99f6d9"
      },
      "source": [
        "# 전치행렬\n",
        "print(m1.T)\n",
        "print(m2.transpose())"
      ],
      "execution_count": null,
      "outputs": [
        {
          "output_type": "stream",
          "text": [
            "[[1 3]\n",
            " [2 4]]\n",
            "[[1 4 7]\n",
            " [2 5 8]\n",
            " [3 6 9]]\n"
          ],
          "name": "stdout"
        }
      ]
    },
    {
      "cell_type": "code",
      "metadata": {
        "colab": {
          "base_uri": "https://localhost:8080/"
        },
        "id": "a14r3fIzN3fw",
        "outputId": "5449f30e-19db-46d1-c5b8-3ee557375c49"
      },
      "source": [
        "# 단위행렬\n",
        "e1 = np.identity(2)\n",
        "print(e1)\n",
        "\n",
        "e2 = np.identity(4)\n",
        "print(e2)"
      ],
      "execution_count": null,
      "outputs": [
        {
          "output_type": "stream",
          "text": [
            "[[1. 0.]\n",
            " [0. 1.]]\n",
            "[[1. 0. 0. 0.]\n",
            " [0. 1. 0. 0.]\n",
            " [0. 0. 1. 0.]\n",
            " [0. 0. 0. 1.]]\n"
          ],
          "name": "stdout"
        }
      ]
    },
    {
      "cell_type": "code",
      "metadata": {
        "colab": {
          "base_uri": "https://localhost:8080/"
        },
        "id": "FqOowVkON3WB",
        "outputId": "b42766a6-4611-4c9a-bfa0-6ce5a3175c15"
      },
      "source": [
        "# 역행렬\n",
        "im1 = np.linalg.inv(m1)\n",
        "print(im1)\n",
        "\n",
        "# print(m1 * im1)  # 성분 곱 함수\n",
        "result = m1.dot(im1)  # 행렬 곱 함수\n",
        "print(result.round())"
      ],
      "execution_count": null,
      "outputs": [
        {
          "output_type": "stream",
          "text": [
            "[[-2.   1. ]\n",
            " [ 1.5 -0.5]]\n",
            "[[1. 0.]\n",
            " [0. 1.]]\n"
          ],
          "name": "stdout"
        }
      ]
    },
    {
      "cell_type": "code",
      "metadata": {
        "colab": {
          "base_uri": "https://localhost:8080/"
        },
        "id": "rGGRNA2NOSgd",
        "outputId": "880acb40-cb68-47c0-9bfe-99665bd135c8"
      },
      "source": [
        "# 행렬 Indexing\n",
        "matrix = np.array([[1,2,3,4],[5,6,7,8],[9,10,11,12]])\n",
        "print(matrix)\n",
        "\n",
        "print(matrix[0,0])\n",
        "print(matrix[0,:]) # : 만 있음 = all \n",
        "print(matrix[:,0]) \n",
        "\n",
        "print(matrix[0:2,0:2])\n",
        "print(matrix[:,0:2])\n",
        "print(matrix[:,2:4])\n",
        "print(matrix[1:3,1:3])\n",
        "\n"
      ],
      "execution_count": null,
      "outputs": [
        {
          "output_type": "stream",
          "text": [
            "[[ 1  2  3  4]\n",
            " [ 5  6  7  8]\n",
            " [ 9 10 11 12]]\n",
            "1\n",
            "[1 2 3 4]\n",
            "[1 5 9]\n",
            "[[1 2]\n",
            " [5 6]]\n",
            "[[ 1  2]\n",
            " [ 5  6]\n",
            " [ 9 10]]\n",
            "[[ 3  4]\n",
            " [ 7  8]\n",
            " [11 12]]\n",
            "[[ 6  7]\n",
            " [10 11]]\n"
          ],
          "name": "stdout"
        }
      ]
    }
  ]
}